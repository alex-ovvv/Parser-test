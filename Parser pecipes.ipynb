{
 "cells": [
  {
   "cell_type": "code",
   "execution_count": 1,
   "metadata": {},
   "outputs": [
    {
     "name": "stdout",
     "output_type": "stream",
     "text": [
      "{'сок лимона', 'сыр Фета или Брынза (можно заменить творогом)', 'соль', 'мука', 'кабачки молодые', 'растительное масло для жарки', 'яйца', 'укроп', 'сметана', 'свежемолотый перец', 'чеснок '}\n",
      "Wall time: 646 ms\n"
     ]
    }
   ],
   "source": [
    "%%time\n",
    "import requests, bs4\n",
    "s=requests.get('https://gotovim-doma.ru/recipe/9390-oladi-iz-kabachkov-s-fetoy-brynzoy-ili-tvorogom')\n",
    "b=bs4.BeautifulSoup(s.text, \"html.parser\")\n",
    "p4=b.select('.recept-table')\n",
    "recipe1=p4[0].getText()\n",
    "\n",
    "from string import digits\n",
    "remove_digits = str.maketrans('', '', digits)\n",
    "res = recipe1.translate(remove_digits)\n",
    "#print (res)\n",
    "\n",
    "res1 = res.replace(\"(по желанию)\", \"\")\n",
    "\n",
    "res_list = res1.split(\"\\n\")\n",
    "#print (res_list)\n",
    "\n",
    "l1 = res_list\n",
    "l2 = [\"укроп (или другая зелень)\", \"Для сметанного соуса с укропом и чесноком\", 'полпучка', \" \", \" ч.л. (по вкусу)\", '', \" зубчик\", \" г\", ' ст.л.'\n",
    "     \" по вкусу\", \"- веточки\", \" полпучка\", \" по вкусу\", \" ст.л.\", \"  ( г)\", \" шт ( г)\", \" шт\"]\n",
    "\n",
    "l3 = [x for x in l1 if x not in l2]\n",
    "#print (l3)\n",
    "\n",
    "res_set = set(l3)\n",
    "print (res_set)\n",
    "\n",
    "#import codecs\n",
    "#put_it_in_fail = codecs.open(\"Recipes1.csv\", \"a\", encoding = \"UTF-8\")\n",
    "#y = str(res_set)\n",
    "#put_it_in_fail.write(y)\n",
    "#put_it_in_fail.close()"
   ]
  },
  {
   "cell_type": "code",
   "execution_count": null,
   "metadata": {},
   "outputs": [],
   "source": []
  },
  {
   "cell_type": "code",
   "execution_count": 48,
   "metadata": {},
   "outputs": [],
   "source": [
    "import codecs\n",
    "put_it_in_fail = codecs.open(\"Recipes1.txt\", \"a\", encoding = \"UTF-8\")\n",
    "y = str(res_set)\n",
    "put_it_in_fail.write(y)\n",
    "put_it_in_fail.close()"
   ]
  },
  {
   "cell_type": "code",
   "execution_count": 45,
   "metadata": {},
   "outputs": [
    {
     "name": "stderr",
     "output_type": "stream",
     "text": [
      "\"cat\" ­Ґ пў«пҐвбп ў­гваҐ­­Ґ© Ё«Ё ў­Ґи­Ґ©\n",
      "Є®¬ ­¤®©, ЁбЇ®«­пҐ¬®© Їа®Ја ¬¬®© Ё«Ё Ї ЄҐв­л¬ д ©«®¬.\n"
     ]
    }
   ],
   "source": [
    "!cat u.put_it_in_fail"
   ]
  },
  {
   "cell_type": "code",
   "execution_count": 6,
   "metadata": {},
   "outputs": [
    {
     "name": "stdout",
     "output_type": "stream",
     "text": [
      "None\n"
     ]
    }
   ],
   "source": [
    "## Хз как это применить правильно, для задачи с .replace\n",
    "def remove_word(s, w):\n",
    "    if (' ' + w + ' ') in (' ' + s + ' '):\n",
    "        return s.replace(w, \" \")\n",
    "\n",
    "x2 = \"шт\"\n",
    "remove_list = [x2, \"соль\"]\n",
    "x1 = y\n",
    "x = remove_word(res, str(remove_list[0:1]))\n",
    "print (x)"
   ]
  },
  {
   "cell_type": "code",
   "execution_count": 29,
   "metadata": {},
   "outputs": [],
   "source": [
    "res1 = res.replace(\"(по желанию)\", \"\")"
   ]
  },
  {
   "cell_type": "code",
   "execution_count": 30,
   "metadata": {},
   "outputs": [
    {
     "name": "stdout",
     "output_type": "stream",
     "text": [
      "['', '', 'кабачки молодые', ' шт ( г)', '', '', 'сыр Фета или Брынза (можно заменить творогом)', ' г', '', '', 'яйца', ' шт', '', '', 'мука', ' ст.л.', '', '', 'укроп', ' полпучка', '', '', 'соль', ' по вкусу', '', '', 'свежемолотый перец', ' по вкусу', '', '', 'растительное масло для жарки', ' ', '', '', 'Для сметанного соуса с укропом и чесноком', '', '', 'сметана', ' г', '', '', 'чеснок ', ' зубчик', '', '', 'укроп (или другая зелень)', '- веточки', '', '', 'сок лимона', ' ч.л. (по вкусу)', '', '', 'соль', ' ', '', '', 'свежемолотый перец', ' ', '', '']\n"
     ]
    }
   ],
   "source": [
    "res_list = res1.split(\"\\n\")\n",
    "print (res_list)"
   ]
  },
  {
   "cell_type": "code",
   "execution_count": 33,
   "metadata": {},
   "outputs": [
    {
     "name": "stdout",
     "output_type": "stream",
     "text": [
      "['кабачки молодые', 'сыр Фета или Брынза (можно заменить творогом)', 'яйца', 'мука', 'укроп', 'соль', 'свежемолотый перец', 'растительное масло для жарки', 'сметана', 'чеснок ', 'сок лимона', 'соль', 'свежемолотый перец']\n"
     ]
    }
   ],
   "source": [
    "l1 = res_list\n",
    "l2 = [\"укроп (или другая зелень)\", \"Для сметанного соуса с укропом и чесноком\", 'полпучка', \" \", \" ч.л. (по вкусу)\", '', \" зубчик\", \" г\", ' ст.л.'\n",
    "     \" по вкусу\", \"- веточки\", \" полпучка\", \" по вкусу\", \" ст.л.\", \"  ( г)\", \" шт ( г)\", \" шт\"]\n",
    "\n",
    "l3 = [x for x in l1 if x not in l2]\n",
    "print (l3)"
   ]
  },
  {
   "cell_type": "code",
   "execution_count": 34,
   "metadata": {},
   "outputs": [
    {
     "name": "stdout",
     "output_type": "stream",
     "text": [
      "{'сметана', 'сок лимона', 'растительное масло для жарки', 'мука', 'сыр Фета или Брынза (можно заменить творогом)', 'свежемолотый перец', 'соль', 'укроп', 'чеснок ', 'яйца', 'кабачки молодые'}\n"
     ]
    }
   ],
   "source": [
    "res_set = set(l3)\n",
    "print (res_set)"
   ]
  },
  {
   "cell_type": "code",
   "execution_count": 56,
   "metadata": {},
   "outputs": [
    {
     "ename": "SyntaxError",
     "evalue": "invalid syntax (<ipython-input-56-54f4c49dc50a>, line 2)",
     "output_type": "error",
     "traceback": [
      "\u001b[1;36m  File \u001b[1;32m\"<ipython-input-56-54f4c49dc50a>\"\u001b[1;36m, line \u001b[1;32m2\u001b[0m\n\u001b[1;33m    pip install urllib2\u001b[0m\n\u001b[1;37m              ^\u001b[0m\n\u001b[1;31mSyntaxError\u001b[0m\u001b[1;31m:\u001b[0m invalid syntax\n"
     ]
    }
   ],
   "source": [
    "from bs4 import BeautifulSoup\n",
    "pip install urllib2\n",
    "from urllib2 import urlopen\n",
    " \n",
    "html_doc = urlopen('http://python-3.ru').read()\n",
    "soup = BeautifulSoup(html_doc)\n",
    " \n",
    "print (soup)"
   ]
  },
  {
   "cell_type": "code",
   "execution_count": 3,
   "metadata": {},
   "outputs": [],
   "source": [
    "##наичнаем парсер\n",
    "import lxml.html as html\n",
    "from pandas import DataFrame"
   ]
  },
  {
   "cell_type": "code",
   "execution_count": 4,
   "metadata": {},
   "outputs": [],
   "source": [
    "main_domain_stat = 'https://gotovim-doma.ru/'"
   ]
  },
  {
   "cell_type": "code",
   "execution_count": 10,
   "metadata": {},
   "outputs": [
    {
     "ename": "TypeError",
     "evalue": "write() argument must be str, not lxml.etree._ElementTree",
     "output_type": "error",
     "traceback": [
      "\u001b[1;31m---------------------------------------------------------------------------\u001b[0m",
      "\u001b[1;31mTypeError\u001b[0m                                 Traceback (most recent call last)",
      "\u001b[1;32m<ipython-input-10-8ae6abb6de7b>\u001b[0m in \u001b[0;36m<module>\u001b[1;34m()\u001b[0m\n\u001b[0;32m      4\u001b[0m \u001b[1;32mimport\u001b[0m \u001b[0mcodecs\u001b[0m\u001b[1;33m\u001b[0m\u001b[0m\n\u001b[0;32m      5\u001b[0m \u001b[0mput_it_in_fail\u001b[0m \u001b[1;33m=\u001b[0m \u001b[0mcodecs\u001b[0m\u001b[1;33m.\u001b[0m\u001b[0mopen\u001b[0m\u001b[1;33m(\u001b[0m\u001b[1;34m\"sites.html\"\u001b[0m\u001b[1;33m,\u001b[0m \u001b[1;34m\"a\"\u001b[0m\u001b[1;33m)\u001b[0m\u001b[1;33m\u001b[0m\u001b[0m\n\u001b[1;32m----> 6\u001b[1;33m \u001b[0mput_it_in_fail\u001b[0m\u001b[1;33m.\u001b[0m\u001b[0mwrite\u001b[0m\u001b[1;33m(\u001b[0m\u001b[0mpage\u001b[0m\u001b[1;33m)\u001b[0m\u001b[1;33m\u001b[0m\u001b[0m\n\u001b[0m\u001b[0;32m      7\u001b[0m \u001b[0mput_it_in_fail\u001b[0m\u001b[1;33m.\u001b[0m\u001b[0mclose\u001b[0m\u001b[1;33m(\u001b[0m\u001b[1;33m)\u001b[0m\u001b[1;33m\u001b[0m\u001b[0m\n",
      "\u001b[1;31mTypeError\u001b[0m: write() argument must be str, not lxml.etree._ElementTree"
     ]
    }
   ],
   "source": [
    "main_domain_stat = 'http://hosteddb.fightmetric.com'\n",
    "page = html.parse('%s/events/index/date/desc/1/all' % (main_domain_stat))\n",
    "\n",
    "import codecs\n",
    "put_it_in_fail = codecs.open(\"sites.html\", \"a\")\n",
    "put_it_in_fail.write(page)\n",
    "put_it_in_fail.close()"
   ]
  },
  {
   "cell_type": "code",
   "execution_count": 21,
   "metadata": {},
   "outputs": [
    {
     "name": "stdout",
     "output_type": "stream",
     "text": [
      "\n",
      "\n",
      "кабачки молодые\n",
      "2 шт (500 г)\n",
      "\n",
      "\n",
      "сыр Фета или Брынза (можно заменить творогом)\n",
      "150 г\n",
      "\n",
      "\n",
      "яйца\n",
      "2 шт\n",
      "\n",
      "\n",
      "мука\n",
      "2 ст.л.\n",
      "\n",
      "\n",
      "укроп\n",
      " полпучка\n",
      "\n",
      "\n",
      "соль\n",
      " по вкусу\n",
      "\n",
      "\n",
      "свежемолотый перец\n",
      " по вкусу\n",
      "\n",
      "\n",
      "растительное масло для жарки\n",
      " \n",
      "\n",
      "\n",
      "Для сметанного соуса с укропом и чесноком\n",
      "\n",
      "\n",
      "сметана\n",
      "150 г\n",
      "\n",
      "\n",
      "чеснок (по желанию)\n",
      "1 зубчик\n",
      "\n",
      "\n",
      "укроп (или другая зелень)\n",
      "2-3 веточки\n",
      "\n",
      "\n",
      "сок лимона\n",
      "1 ч.л. (по вкусу)\n",
      "\n",
      "\n",
      "соль\n",
      " \n",
      "\n",
      "\n",
      "свежемолотый перец\n",
      " \n",
      "\n",
      "\n"
     ]
    }
   ],
   "source": [
    "import requests\n",
    "response = requests.get('https://gotovim-doma.ru/')\n",
    "try:\n",
    "    doc = response.content.decode(\"utf-8\", errors = \"ignore\")\n",
    "except:\n",
    "    doc = response.content.decode(\"cp1251\", errors = \"ignore\")\n",
    "\n",
    "doc1=bs4.BeautifulSoup(s.text, \"html.parser\")\n",
    "p4=doc1.select('.recept-table')\n",
    "recipe1=p4[0].getText()\n",
    "print (recipe1)"
   ]
  },
  {
   "cell_type": "code",
   "execution_count": null,
   "metadata": {},
   "outputs": [],
   "source": []
  }
 ],
 "metadata": {
  "kernelspec": {
   "display_name": "Python 3",
   "language": "python",
   "name": "python3"
  },
  "language_info": {
   "codemirror_mode": {
    "name": "ipython",
    "version": 3
   },
   "file_extension": ".py",
   "mimetype": "text/x-python",
   "name": "python",
   "nbconvert_exporter": "python",
   "pygments_lexer": "ipython3",
   "version": "3.6.5"
  }
 },
 "nbformat": 4,
 "nbformat_minor": 2
}
